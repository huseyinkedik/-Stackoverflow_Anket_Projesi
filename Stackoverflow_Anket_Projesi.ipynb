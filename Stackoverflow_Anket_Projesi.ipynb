{
 "cells": [
  {
   "cell_type": "code",
   "execution_count": 35,
   "id": "a6f9949c-5ef3-46a7-8ab0-437cca639c52",
   "metadata": {},
   "outputs": [],
   "source": [
    "import pandas as pd\n",
    "df = pd.read_csv(r\"C:\\Users\\husey\\Downloads\\survey_results_public.csv\")\n",
    "schema = pd.read_csv(r\"C:\\Users\\husey\\Downloads\\survey_results_schema.csv\")"
   ]
  },
  {
   "cell_type": "code",
   "execution_count": 40,
   "id": "e033f46c-57a4-4233-a5b9-644eaaf917e3",
   "metadata": {},
   "outputs": [
    {
     "name": "stdout",
     "output_type": "stream",
     "text": [
      "the_number_of_survey_respondents: 65437\n"
     ]
    }
   ],
   "source": [
    "#1\n",
    "print(f\"the_number_of_survey_respondents: {df.shape[0]}\")"
   ]
  },
  {
   "cell_type": "code",
   "execution_count": 4,
   "id": "cac4aff4-a1a6-4391-a346-b1e073f92492",
   "metadata": {},
   "outputs": [
    {
     "data": {
      "text/plain": [
       "6306"
      ]
     },
     "execution_count": 4,
     "metadata": {},
     "output_type": "execute_result"
    }
   ],
   "source": [
    "#2\n",
    "questions = set(schema.qname.unique()) & set(df.columns)\n",
    "df.dropna(subset=questions).shape[0]"
   ]
  },
  {
   "cell_type": "code",
   "execution_count": 42,
   "id": "18bf6a08-2600-46eb-9ab2-0372660475c5",
   "metadata": {},
   "outputs": [
    {
     "name": "stdout",
     "output_type": "stream",
     "text": [
      "9.0\n",
      "11.5\n"
     ]
    }
   ],
   "source": [
    "#3\n",
    "print(df[\"WorkExp\"].median())\n",
    "print(round(df[\"WorkExp\"].mean(),1))"
   ]
  },
  {
   "cell_type": "code",
   "execution_count": 6,
   "id": "64123fec-6a6f-4e22-a7a6-7ca8c2f63fa9",
   "metadata": {},
   "outputs": [
    {
     "name": "stdout",
     "output_type": "stream",
     "text": [
      "remote_workers: 20831\n"
     ]
    }
   ],
   "source": [
    "#4\n",
    "remote_workers = (df[\"RemoteWork\"] ==\"Remote\").sum()\n",
    "print(f\"remote_workers: {remote_workers}\")"
   ]
  },
  {
   "cell_type": "code",
   "execution_count": 46,
   "id": "650bf5ad-8676-433f-8f27-79ddfa587a21",
   "metadata": {},
   "outputs": [
    {
     "name": "stdout",
     "output_type": "stream",
     "text": [
      "47.06 percent of participants use Python\n"
     ]
    }
   ],
   "source": [
    "#5\n",
    "python_users = df['LanguageHaveWorkedWith'].str.contains('Python', case=False, na=False)\n",
    "python_count = python_users.sum()\n",
    "total_count = len(df)\n",
    "python_percentage = (python_count / total_count) * 100\n",
    "print(f\"{python_percentage:.2f} percent of participants use Python\")"
   ]
  },
  {
   "cell_type": "code",
   "execution_count": 8,
   "id": "6c9cbdd1-4142-4a50-a91e-7f48953ac1dd",
   "metadata": {},
   "outputs": [
    {
     "data": {
      "text/plain": [
       "30271"
      ]
     },
     "execution_count": 8,
     "metadata": {},
     "output_type": "execute_result"
    }
   ],
   "source": [
    "#6\n",
    "df['learned_with_online_courses'] = df.LearnCode.apply(lambda x: 1 if 'online courses' in str(x).lower() else 0)\n",
    "df.learned_with_online_courses.sum()"
   ]
  },
  {
   "cell_type": "code",
   "execution_count": 48,
   "id": "889f7d25-4aaf-4d19-bca5-b446757301cf",
   "metadata": {},
   "outputs": [
    {
     "name": "stdout",
     "output_type": "stream",
     "text": [
      "average_annual_compensation_by_country: \n",
      "Country\n",
      "Afghanistan                               4543.000000\n",
      "Albania                                  56295.000000\n",
      "Algeria                                   9053.285714\n",
      "Andorra                                 193331.000000\n",
      "Angola                                       6.000000\n",
      "                                            ...      \n",
      "Venezuela, Bolivarian Republic of...     21500.000000\n",
      "Viet Nam                                 14014.562500\n",
      "Yemen                                    10297.333333\n",
      "Zambia                                   28123.666667\n",
      "Zimbabwe                                 37500.000000\n",
      "Name: ConvertedCompYearly, Length: 173, dtype: float64\n",
      "\n",
      "median_annual_compensation_by_country: \n",
      "Country\n",
      "Afghanistan                               4768.5\n",
      "Albania                                  56295.0\n",
      "Algeria                                   6230.0\n",
      "Andorra                                 193331.0\n",
      "Angola                                       6.0\n",
      "                                          ...   \n",
      "Venezuela, Bolivarian Republic of...      7100.0\n",
      "Viet Nam                                 10180.0\n",
      "Yemen                                     5333.0\n",
      "Zambia                                   22803.0\n",
      "Zimbabwe                                 18000.0\n",
      "Name: ConvertedCompYearly, Length: 173, dtype: float64\n"
     ]
    }
   ],
   "source": [
    "#7\n",
    "python_users = df[df['LanguageHaveWorkedWith'].str.contains('python', case=False, na=False)]\n",
    "country_grouped = python_users.groupby(\"Country\")\n",
    "average = country_grouped[\"ConvertedCompYearly\"].mean()\n",
    "median = country_grouped[\"ConvertedCompYearly\"].median()\n",
    "print(f\"average_annual_compensation_by_country: \\n{average}\"'\\n')\n",
    "print(f\"median_annual_compensation_by_country: \\n{median}\")"
   ]
  },
  {
   "cell_type": "code",
   "execution_count": 10,
   "id": "ec92ab70-918a-418f-9746-5553a85c9edd",
   "metadata": {},
   "outputs": [
    {
     "name": "stdout",
     "output_type": "stream",
     "text": [
      "                                              EdLevel  ConvertedCompYearly\n",
      "15837    Bachelor’s degree (B.A., B.S., B.Eng., etc.)           16256603.0\n",
      "12723  Professional degree (JD, MD, Ph.D, Ed.D, etc.)           13818022.0\n",
      "28379  Professional degree (JD, MD, Ph.D, Ed.D, etc.)            9000000.0\n",
      "17593    Bachelor’s degree (B.A., B.S., B.Eng., etc.)            6340564.0\n",
      "17672  Professional degree (JD, MD, Ph.D, Ed.D, etc.)            4936778.0\n"
     ]
    }
   ],
   "source": [
    "#8\n",
    "top_5_highest_compensation = df.nlargest(5, 'ConvertedCompYearly')\n",
    "top_5_education_levels = top_5_highest_compensation[['EdLevel','ConvertedCompYearly']]\n",
    "print(top_5_education_levels)"
   ]
  },
  {
   "cell_type": "code",
   "execution_count": 11,
   "id": "0d878cab-8d05-4efb-b806-47bc7b2fabdd",
   "metadata": {},
   "outputs": [
    {
     "name": "stdout",
     "output_type": "stream",
     "text": [
      "Age\n",
      "18-24 years old       55.922826\n",
      "25-34 years old       45.773912\n",
      "35-44 years old       41.520546\n",
      "45-54 years old       41.910706\n",
      "55-64 years old       40.427184\n",
      "65 years or older     37.564767\n",
      "Prefer not to say     45.341615\n",
      "Under 18 years old    64.875389\n",
      "dtype: float64\n"
     ]
    }
   ],
   "source": [
    "#Bonus1\n",
    "python_users = df[df['LanguageHaveWorkedWith'].str.contains('Python', case=False, na=False)]\n",
    "python_users_by_age= python_users.groupby('Age').size()\n",
    "total_users_by_age = pd.DataFrame(df).groupby('Age').size()\n",
    "percentage_by_age = (python_users_by_age / total_users_by_age) * 100\n",
    "print(percentage_by_age)"
   ]
  },
  {
   "cell_type": "code",
   "execution_count": 52,
   "id": "37985f89-4957-454f-986f-0fa9a16dd406",
   "metadata": {},
   "outputs": [
    {
     "data": {
      "text/html": [
       "<div>\n",
       "<style scoped>\n",
       "    .dataframe tbody tr th:only-of-type {\n",
       "        vertical-align: middle;\n",
       "    }\n",
       "\n",
       "    .dataframe tbody tr th {\n",
       "        vertical-align: top;\n",
       "    }\n",
       "\n",
       "    .dataframe thead th {\n",
       "        text-align: right;\n",
       "    }\n",
       "</style>\n",
       "<table border=\"1\" class=\"dataframe\">\n",
       "  <thead>\n",
       "    <tr style=\"text-align: right;\">\n",
       "      <th></th>\n",
       "      <th>Industry</th>\n",
       "      <th>count</th>\n",
       "    </tr>\n",
       "  </thead>\n",
       "  <tbody>\n",
       "    <tr>\n",
       "      <th>0</th>\n",
       "      <td>Software Development</td>\n",
       "      <td>768</td>\n",
       "    </tr>\n",
       "    <tr>\n",
       "      <th>1</th>\n",
       "      <td>Other:</td>\n",
       "      <td>239</td>\n",
       "    </tr>\n",
       "    <tr>\n",
       "      <th>2</th>\n",
       "      <td>Healthcare</td>\n",
       "      <td>156</td>\n",
       "    </tr>\n",
       "    <tr>\n",
       "      <th>3</th>\n",
       "      <td>Fintech</td>\n",
       "      <td>156</td>\n",
       "    </tr>\n",
       "    <tr>\n",
       "      <th>4</th>\n",
       "      <td>Internet, Telecomm or Information Services</td>\n",
       "      <td>145</td>\n",
       "    </tr>\n",
       "    <tr>\n",
       "      <th>5</th>\n",
       "      <td>Retail and Consumer Services</td>\n",
       "      <td>106</td>\n",
       "    </tr>\n",
       "    <tr>\n",
       "      <th>6</th>\n",
       "      <td>Media &amp; Advertising Services</td>\n",
       "      <td>103</td>\n",
       "    </tr>\n",
       "    <tr>\n",
       "      <th>7</th>\n",
       "      <td>Banking/Financial Services</td>\n",
       "      <td>69</td>\n",
       "    </tr>\n",
       "    <tr>\n",
       "      <th>8</th>\n",
       "      <td>Government</td>\n",
       "      <td>69</td>\n",
       "    </tr>\n",
       "    <tr>\n",
       "      <th>9</th>\n",
       "      <td>Computer Systems Design and Services</td>\n",
       "      <td>69</td>\n",
       "    </tr>\n",
       "    <tr>\n",
       "      <th>10</th>\n",
       "      <td>Transportation, or Supply Chain</td>\n",
       "      <td>67</td>\n",
       "    </tr>\n",
       "    <tr>\n",
       "      <th>11</th>\n",
       "      <td>Insurance</td>\n",
       "      <td>50</td>\n",
       "    </tr>\n",
       "    <tr>\n",
       "      <th>12</th>\n",
       "      <td>Manufacturing</td>\n",
       "      <td>48</td>\n",
       "    </tr>\n",
       "    <tr>\n",
       "      <th>13</th>\n",
       "      <td>Higher Education</td>\n",
       "      <td>42</td>\n",
       "    </tr>\n",
       "    <tr>\n",
       "      <th>14</th>\n",
       "      <td>Energy</td>\n",
       "      <td>36</td>\n",
       "    </tr>\n",
       "  </tbody>\n",
       "</table>\n",
       "</div>"
      ],
      "text/plain": [
       "                                      Industry  count\n",
       "0                         Software Development    768\n",
       "1                                       Other:    239\n",
       "2                                   Healthcare    156\n",
       "3                                      Fintech    156\n",
       "4   Internet, Telecomm or Information Services    145\n",
       "5                 Retail and Consumer Services    106\n",
       "6                 Media & Advertising Services    103\n",
       "7                   Banking/Financial Services     69\n",
       "8                                   Government     69\n",
       "9         Computer Systems Design and Services     69\n",
       "10             Transportation, or Supply Chain     67\n",
       "11                                   Insurance     50\n",
       "12                               Manufacturing     48\n",
       "13                            Higher Education     42\n",
       "14                                      Energy     36"
      ]
     },
     "execution_count": 52,
     "metadata": {},
     "output_type": "execute_result"
    }
   ],
   "source": [
    "#Bonus2\n",
    "df[(df.ConvertedCompYearly > df.ConvertedCompYearly.quantile(0.75)) & (df.RemoteWork == 'Remote')].Industry.value_counts().reset_index()"
   ]
  },
  {
   "cell_type": "code",
   "execution_count": null,
   "id": "3bb6c8ba-80b7-43e2-8be5-53ede30e07ed",
   "metadata": {},
   "outputs": [],
   "source": []
  }
 ],
 "metadata": {
  "kernelspec": {
   "display_name": "Python 3 (ipykernel)",
   "language": "python",
   "name": "python3"
  },
  "language_info": {
   "codemirror_mode": {
    "name": "ipython",
    "version": 3
   },
   "file_extension": ".py",
   "mimetype": "text/x-python",
   "name": "python",
   "nbconvert_exporter": "python",
   "pygments_lexer": "ipython3",
   "version": "3.12.4"
  }
 },
 "nbformat": 4,
 "nbformat_minor": 5
}
